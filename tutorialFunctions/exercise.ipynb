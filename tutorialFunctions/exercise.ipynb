{
 "cells": [
  {
   "attachments": {},
   "cell_type": "markdown",
   "metadata": {},
   "source": [
    "# Functions exercise Musk Tweets\n",
    "\n",
    "\n",
    "We are going to be working with a dataset containing some of Elon Musk Tweets. \n",
    "\n",
    "\n",
    "\n",
    "\n",
    "Link to the dataset: https://www.kaggle.com/datasets/gpreda/elon-musk-tweets\n",
    "\n",
    "The following information is included:\n",
    "\n",
    "- ID\n",
    "- User name\n",
    "- User location\n",
    "- User description\n",
    "- User created\n",
    "- User followers\n",
    "- User friends\n",
    "- User favorites\n",
    "- User verified\n",
    "- Date\n",
    "- Text\n",
    "- Hashtags\n",
    "- Source\n",
    "- Retweets\n",
    "- Is retweet"
   ]
  },
  {
   "attachments": {},
   "cell_type": "markdown",
   "metadata": {},
   "source": [
    "### Exercise 1\n",
    "\n",
    "Functions are all about making code functional and reusable. \n",
    "\n",
    "Go through the esercises of the arrays tutorial and try to restructure your code so that each exercise is a standalone function that can be resued with different data. \n",
    "\n",
    "Create an extra function that calls each function in order. Call this function: `tweetAnalysis()`. It should accept the param `tweets` "
   ]
  },
  {
   "cell_type": "code",
   "execution_count": 1,
   "metadata": {},
   "outputs": [],
   "source": [
    "# Write your code here"
   ]
  },
  {
   "attachments": {},
   "cell_type": "markdown",
   "metadata": {},
   "source": [
    "### Exercise 2\n",
    "\n",
    "In the `extras` folder for this tutorial you will find a sencond dataset of Tweets. \n",
    "\n",
    "Try to apply your `tweetAnalysis()` functions to this dataset in order to prove your functions are truly reusable"
   ]
  },
  {
   "cell_type": "code",
   "execution_count": 2,
   "metadata": {},
   "outputs": [],
   "source": [
    "# Write your code here"
   ]
  }
 ],
 "metadata": {
  "kernelspec": {
   "display_name": "venv",
   "language": "python",
   "name": "python3"
  },
  "language_info": {
   "codemirror_mode": {
    "name": "ipython",
    "version": 3
   },
   "file_extension": ".py",
   "mimetype": "text/x-python",
   "name": "python",
   "nbconvert_exporter": "python",
   "pygments_lexer": "ipython3",
   "version": "3.8.9"
  },
  "orig_nbformat": 4,
  "vscode": {
   "interpreter": {
    "hash": "8de49573b43af245f72786bba46bd0385575cfe5b71841321ea16e89eb5e3ea5"
   }
  }
 },
 "nbformat": 4,
 "nbformat_minor": 2
}
