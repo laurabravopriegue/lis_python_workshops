{
 "cells": [
  {
   "attachments": {},
   "cell_type": "markdown",
   "metadata": {},
   "source": [
    "# Python Nested Loops \n",
    "\n",
    "A **nested loop** is a loop inside a loop.\n",
    "\n",
    "The \"inner loop\" will be executed one time for each iteration of the \"outer loop\":"
   ]
  },
  {
   "cell_type": "code",
   "execution_count": 19,
   "metadata": {},
   "outputs": [
    {
     "name": "stdout",
     "output_type": "stream",
     "text": [
      "red apple\n",
      "red banana\n",
      "red cherry\n",
      "big apple\n",
      "big banana\n",
      "big cherry\n",
      "tasty apple\n",
      "tasty banana\n",
      "tasty cherry\n"
     ]
    }
   ],
   "source": [
    "adj = [\"red\", \"big\", \"tasty\"]\n",
    "fruits = [\"apple\", \"banana\", \"cherry\"]\n",
    "\n",
    "for x in adj:\n",
    "  for y in fruits:\n",
    "    print(x, y)"
   ]
  },
  {
   "attachments": {},
   "cell_type": "markdown",
   "metadata": {},
   "source": [
    "The syntax for these nested loops would be:\n",
    "\n",
    "\n",
    "    # outer for loop\n",
    "    for element in sequence \n",
    "\n",
    "        body of outer for loop\n",
    "\n",
    "        # inner for loop\n",
    "        for element in sequence:\n",
    "            body of inner for loop\n",
    "            \n",
    "        body of outer for loop `"
   ]
  },
  {
   "attachments": {},
   "cell_type": "markdown",
   "metadata": {},
   "source": [
    "**Example 2** You can print multiplication tables using Python nested for loops\n",
    "\n",
    "Lets do it for 2 and 3:"
   ]
  },
  {
   "cell_type": "code",
   "execution_count": 20,
   "metadata": {},
   "outputs": [
    {
     "name": "stdout",
     "output_type": "stream",
     "text": [
      "\n",
      "Multiplication table for  2\n",
      "2 * 1 = 2\n",
      "2 * 2 = 4\n",
      "2 * 3 = 6\n",
      "2 * 4 = 8\n",
      "2 * 5 = 10\n",
      "2 * 6 = 12\n",
      "2 * 7 = 14\n",
      "2 * 8 = 16\n",
      "2 * 9 = 18\n",
      "2 * 10 = 20\n",
      "\n",
      "Multiplication table for  3\n",
      "3 * 1 = 3\n",
      "3 * 2 = 6\n",
      "3 * 3 = 9\n",
      "3 * 4 = 12\n",
      "3 * 5 = 15\n",
      "3 * 6 = 18\n",
      "3 * 7 = 21\n",
      "3 * 8 = 24\n",
      "3 * 9 = 27\n",
      "3 * 10 = 30\n"
     ]
    }
   ],
   "source": [
    "# Running outer loop from 2 to 3\n",
    " \n",
    "for i in [2, 3]:\n",
    "\n",
    "    #Printing inside outer loop\n",
    "    print(\"\\nMultiplication table for \", i)\n",
    "\n",
    "     # Running inner loop from 1 to 10\n",
    "    for j in [1,2,3,4,5,6,7,8,9,10]:\n",
    "        # Printing inside the inner loop\n",
    "        print(i, \"*\", j, \"=\", i*j)\n"
   ]
  },
  {
   "attachments": {},
   "cell_type": "markdown",
   "metadata": {},
   "source": [
    "In this example, we are using a for loop inside a for loop. In this example, we are printing a multiplication table of 2 and 3.\n",
    "\n",
    "\n",
    "- The outer for loop iterates over the list `[2, 3]`\n",
    "\n",
    "- The inner for loop will execute ten times for each outer number\n",
    "\n",
    "- In the body of the outer loop, we will print the title \"Multiplication table for X\"\n",
    "\n",
    "- In the body of the inner loop, we will print the multiplication of the outer number and current number"
   ]
  },
  {
   "attachments": {},
   "cell_type": "markdown",
   "metadata": {},
   "source": [
    "**Example 2.1** Let's make it a bit cleaner by using range (remember the last digit is not included)"
   ]
  },
  {
   "cell_type": "code",
   "execution_count": 21,
   "metadata": {},
   "outputs": [
    {
     "name": "stdout",
     "output_type": "stream",
     "text": [
      "\n",
      "Multiplication table for  2\n",
      "2 * 1 = 2\n",
      "2 * 2 = 4\n",
      "2 * 3 = 6\n",
      "2 * 4 = 8\n",
      "2 * 5 = 10\n",
      "2 * 6 = 12\n",
      "2 * 7 = 14\n",
      "2 * 8 = 16\n",
      "2 * 9 = 18\n",
      "2 * 10 = 20\n",
      "\n",
      "Multiplication table for  3\n",
      "3 * 1 = 3\n",
      "3 * 2 = 6\n",
      "3 * 3 = 9\n",
      "3 * 4 = 12\n",
      "3 * 5 = 15\n",
      "3 * 6 = 18\n",
      "3 * 7 = 21\n",
      "3 * 8 = 24\n",
      "3 * 9 = 27\n",
      "3 * 10 = 30\n"
     ]
    }
   ],
   "source": [
    "# Running outer loop from 2 to 3\n",
    " \n",
    "for i in range(2, 4):\n",
    "\n",
    "    #Printing inside outer loop\n",
    "    print(\"\\nMultiplication table for \", i)\n",
    "\n",
    "     # Running inner loop from 1 to 10\n",
    "    for j in range(1, 11):\n",
    "        # Printing inside the inner loop\n",
    "        print(i, \"*\", j, \"=\", i*j)"
   ]
  },
  {
   "attachments": {},
   "cell_type": "markdown",
   "metadata": {},
   "source": [
    "**Example 3** Can you get the first 5 rows of the multiplication table of all the even numbers between 1-10? Can you use `range()` in both for loops?"
   ]
  },
  {
   "cell_type": "code",
   "execution_count": 27,
   "metadata": {},
   "outputs": [
    {
     "name": "stdout",
     "output_type": "stream",
     "text": [
      "Multiplication table for  2\n",
      "2 * 1 = 2\n",
      "2 * 2 = 4\n",
      "2 * 3 = 6\n",
      "2 * 4 = 8\n",
      "Multiplication table for  4\n",
      "4 * 1 = 4\n",
      "4 * 2 = 8\n",
      "4 * 3 = 12\n",
      "4 * 4 = 16\n",
      "Multiplication table for  6\n",
      "6 * 1 = 6\n",
      "6 * 2 = 12\n",
      "6 * 3 = 18\n",
      "6 * 4 = 24\n",
      "Multiplication table for  8\n",
      "8 * 1 = 8\n",
      "8 * 2 = 16\n",
      "8 * 3 = 24\n",
      "8 * 4 = 32\n",
      "Multiplication table for  10\n",
      "10 * 1 = 10\n",
      "10 * 2 = 20\n",
      "10 * 3 = 30\n",
      "10 * 4 = 40\n"
     ]
    }
   ],
   "source": [
    "# Running outer loop from 2 to 3\n",
    " \n",
    "for i in range(2, 11, 2):\n",
    "\n",
    "    #Printing inside outer loop\n",
    "    print(\"Multiplication table for \", i)\n",
    "\n",
    "     # Running inner loop from 1 to 10\n",
    "    for j in range(1, 5):\n",
    "        # Printing inside the inner loop\n",
    "        print(i, \"*\", j, \"=\", i*j)"
   ]
  },
  {
   "attachments": {},
   "cell_type": "markdown",
   "metadata": {},
   "source": [
    "**Example 4** Another common use of nested loop is to print various star and number patterns. Can you try to decipher what this logic is doing?"
   ]
  },
  {
   "cell_type": "code",
   "execution_count": 28,
   "metadata": {},
   "outputs": [
    {
     "name": "stdout",
     "output_type": "stream",
     "text": [
      "* \n",
      "* * \n",
      "* * * \n",
      "* * * * \n",
      "* * * * * \n"
     ]
    }
   ],
   "source": [
    "rows = 5\n",
    "# outer loop\n",
    "for i in range(0, rows):\n",
    "    # inner loop\n",
    "    for j in range(0, i + 1):\n",
    "        print(\"*\", end=\" \")\n",
    "    print('')"
   ]
  },
  {
   "attachments": {},
   "cell_type": "markdown",
   "metadata": {},
   "source": [
    "**Example 4.1** What about a rectangle such as:"
   ]
  },
  {
   "cell_type": "code",
   "execution_count": 30,
   "metadata": {},
   "outputs": [
    {
     "data": {
      "text/plain": [
       "'\\n***\\n***\\n***\\n***\\n***\\n'"
      ]
     },
     "execution_count": 30,
     "metadata": {},
     "output_type": "execute_result"
    }
   ],
   "source": [
    "\"\"\"\n",
    "***\n",
    "***\n",
    "***\n",
    "***\n",
    "***\n",
    "\"\"\""
   ]
  },
  {
   "cell_type": "code",
   "execution_count": 31,
   "metadata": {},
   "outputs": [
    {
     "name": "stdout",
     "output_type": "stream",
     "text": [
      "***\n",
      "***\n",
      "***\n",
      "***\n",
      "***\n"
     ]
    }
   ],
   "source": [
    "rows = 5\n",
    "columns = 3\n",
    "\n",
    "for i in range(rows):\n",
    "    for j in range(columns):\n",
    "        print('*', end = '')\n",
    "    print()\n"
   ]
  },
  {
   "attachments": {},
   "cell_type": "markdown",
   "metadata": {},
   "source": [
    "**Example 5** Can you invert the triangle above so it looks like:"
   ]
  },
  {
   "cell_type": "code",
   "execution_count": 7,
   "metadata": {},
   "outputs": [
    {
     "data": {
      "text/plain": [
       "'\\n\\n***** (5 stars)\\n****  (4 stars)\\n***   (3 stars)\\n**    (2 stars)\\n*     (1 stars)\\n\\n'"
      ]
     },
     "execution_count": 7,
     "metadata": {},
     "output_type": "execute_result"
    }
   ],
   "source": [
    "\"\"\"\n",
    "\n",
    "***** (5 stars)\n",
    "****  (4 stars)\n",
    "***   (3 stars)\n",
    "**    (2 stars)\n",
    "*     (1 stars)\n",
    "\n",
    "\"\"\""
   ]
  },
  {
   "cell_type": "code",
   "execution_count": 5,
   "metadata": {},
   "outputs": [
    {
     "name": "stdout",
     "output_type": "stream",
     "text": [
      "* * * * * \n",
      "* * * * \n",
      "* * * \n",
      "* * \n",
      "* \n"
     ]
    }
   ],
   "source": [
    "rows = 5\n",
    "for i in range(rows, 0, -1):\n",
    "    for j in range(0, i):\n",
    "        print(\"*\", end=\" \")\n",
    "    \n",
    "    print(\"\")"
   ]
  },
  {
   "attachments": {},
   "cell_type": "markdown",
   "metadata": {},
   "source": [
    "**Example 6** Can you do a triangle with numbers such as:"
   ]
  },
  {
   "cell_type": "code",
   "execution_count": 9,
   "metadata": {},
   "outputs": [
    {
     "data": {
      "text/plain": [
       "'\\n\\n1 \\n1 2 \\n1 2 3 \\n1 2 3 4 \\n1 2 3 4 5\\n\\n'"
      ]
     },
     "execution_count": 9,
     "metadata": {},
     "output_type": "execute_result"
    }
   ],
   "source": [
    "\"\"\"\n",
    "\n",
    "1 \n",
    "1 2 \n",
    "1 2 3 \n",
    "1 2 3 4 \n",
    "1 2 3 4 5\n",
    "\n",
    "\"\"\""
   ]
  },
  {
   "cell_type": "code",
   "execution_count": 3,
   "metadata": {},
   "outputs": [
    {
     "name": "stdout",
     "output_type": "stream",
     "text": [
      "1 \n",
      "1 2 \n",
      "1 2 3 \n",
      "1 2 3 4 \n",
      "1 2 3 4 5 \n"
     ]
    }
   ],
   "source": [
    "for i in range(rows):\n",
    "    for j in range(i+1):\n",
    "        print(j+1, end=\" \")\n",
    "    print(\"\")"
   ]
  },
  {
   "attachments": {},
   "cell_type": "markdown",
   "metadata": {},
   "source": [
    "**Example 7** Can you invert the triangle of numbers so that it is right-facing?:"
   ]
  },
  {
   "cell_type": "code",
   "execution_count": 11,
   "metadata": {},
   "outputs": [
    {
     "data": {
      "text/plain": [
       "'\\n        * \\n      * * \\n    * * * \\n  * * * * \\n* * * * * \\n\\n'"
      ]
     },
     "execution_count": 11,
     "metadata": {},
     "output_type": "execute_result"
    }
   ],
   "source": [
    "\"\"\"\n",
    "        * \n",
    "      * * \n",
    "    * * * \n",
    "  * * * * \n",
    "* * * * * \n",
    "\n",
    "\"\"\""
   ]
  },
  {
   "cell_type": "code",
   "execution_count": 18,
   "metadata": {},
   "outputs": [
    {
     "name": "stdout",
     "output_type": "stream",
     "text": [
      "        * \n",
      "      * * \n",
      "    * * * \n",
      "  * * * * \n",
      "* * * * * \n"
     ]
    }
   ],
   "source": [
    "rows = 5\n",
    "\n",
    "for i in range(1, rows+1):\n",
    "    for j in range(1, rows+1):\n",
    "        if (j<= rows-i):\n",
    "            print(' ', end = ' ')\n",
    "        else:\n",
    "            print('*', end = ' ')\n",
    "    print()"
   ]
  },
  {
   "attachments": {},
   "cell_type": "markdown",
   "metadata": {},
   "source": [
    "#### Breaking Nested Loops\n",
    "\n",
    "The `break` statement is used inside the loop **to exit out of the loop**. \n",
    "\n",
    "If the `break` statement is used inside a nested loop (loop inside another loop), it will terminate the innermost loop."
   ]
  },
  {
   "cell_type": "code",
   "execution_count": 32,
   "metadata": {},
   "outputs": [
    {
     "name": "stdout",
     "output_type": "stream",
     "text": [
      "1 0\n",
      "2 0\n",
      "2 1\n",
      "3 0\n",
      "3 1\n",
      "3 2\n"
     ]
    }
   ],
   "source": [
    "for i in range(4):\n",
    "    for j in range(4):\n",
    "        if j == i:\n",
    "            break\n",
    "        print(i, j)"
   ]
  },
  {
   "attachments": {},
   "cell_type": "markdown",
   "metadata": {},
   "source": [
    "In this example, we have **two loops**. The outer for loop iterates the first four numbers using the `range()` function, and the inner for loop also iterates the first four numbers. \n",
    "\n",
    "If the outer number and a current number of the inner loop are the same, **then `break` the inner (nested) loop**."
   ]
  },
  {
   "attachments": {},
   "cell_type": "markdown",
   "metadata": {},
   "source": [
    "**Example 8** Create a multiplication table like the one in **example 2**, but stop when the results get to the `*10` of the previous number, such as:"
   ]
  },
  {
   "cell_type": "code",
   "execution_count": 33,
   "metadata": {},
   "outputs": [
    {
     "data": {
      "text/plain": [
       "'\\n\\nMultiplication table for  2 (up until 1*10)\\n2 * 1 = 2\\n2 * 2 = 4\\n2 * 3 = 6\\n2 * 4 = 8\\n2 * 5 = 10\\n\\nMultiplication table for  3 (up until 2*10)\\n3 * 1 = 3\\n3 * 2 = 6\\n3 * 3 = 9\\n3 * 4 = 12\\n3 * 5 = 15\\n3 * 6 = 18\\n\\n'"
      ]
     },
     "execution_count": 33,
     "metadata": {},
     "output_type": "execute_result"
    }
   ],
   "source": [
    "\"\"\"\n",
    "\n",
    "Multiplication table for  2 (up until 1*10)\n",
    "2 * 1 = 2\n",
    "2 * 2 = 4\n",
    "2 * 3 = 6\n",
    "2 * 4 = 8\n",
    "2 * 5 = 10\n",
    "\n",
    "Multiplication table for  3 (up until 2*10)\n",
    "3 * 1 = 3\n",
    "3 * 2 = 6\n",
    "3 * 3 = 9\n",
    "3 * 4 = 12\n",
    "3 * 5 = 15\n",
    "3 * 6 = 18\n",
    "\n",
    "\"\"\""
   ]
  },
  {
   "cell_type": "code",
   "execution_count": 37,
   "metadata": {},
   "outputs": [
    {
     "name": "stdout",
     "output_type": "stream",
     "text": [
      "\n",
      "Multiplication table for  2\n",
      "2 * 1 = 2\n",
      "2 * 2 = 4\n",
      "2 * 3 = 6\n",
      "2 * 4 = 8\n",
      "2 * 5 = 10\n",
      "\n",
      "Multiplication table for  3\n",
      "3 * 1 = 3\n",
      "3 * 2 = 6\n",
      "3 * 3 = 9\n",
      "3 * 4 = 12\n",
      "3 * 5 = 15\n",
      "3 * 6 = 18\n"
     ]
    }
   ],
   "source": [
    "# Running outer loop from 2 to 3\n",
    " \n",
    "for i in range(2, 4):\n",
    "\n",
    "    #Printing inside outer loop\n",
    "    print(\"\\nMultiplication table for \", i)\n",
    "\n",
    "     # Running inner loop from 1 to 10\n",
    "    for j in range(1, 11):\n",
    "        if i*j > (i-1)*10:\n",
    "            break\n",
    "        else:\n",
    "            # Printing inside the inner loop\n",
    "            print(i, \"*\", j, \"=\", i*j)"
   ]
  },
  {
   "attachments": {},
   "cell_type": "markdown",
   "metadata": {},
   "source": [
    "#### Continue Nested Loops\n",
    "\n",
    "The `continue` statement **skip the current iteration and move to the next iteration**. \n",
    "\n",
    "In Python, when the `continue` statement is encountered inside the loop, it skips all the statements below it and immediately jumps to the next iteration.\n"
   ]
  },
  {
   "cell_type": "code",
   "execution_count": 16,
   "metadata": {},
   "outputs": [
    {
     "name": "stdout",
     "output_type": "stream",
     "text": [
      "2 * 4 =  8\n",
      "2 * 6 =  12\n",
      "4 * 2 =  8\n",
      "4 * 6 =  24\n",
      "6 * 2 =  12\n",
      "6 * 4 =  24\n"
     ]
    }
   ],
   "source": [
    "first = [2, 4, 6]\n",
    "second = [2, 4, 6]\n",
    "for i in first:\n",
    "    for j in second:\n",
    "        if i == j:\n",
    "            continue\n",
    "        print(i, '*', j, '= ', i * j)"
   ]
  },
  {
   "attachments": {},
   "cell_type": "markdown",
   "metadata": {},
   "source": [
    "**Example 9** Create a multiplication table like the one in **example 2** and skip when a number is multiplying itself i.e. 2 * 2,  3 * 3,  4 * 4"
   ]
  },
  {
   "cell_type": "code",
   "execution_count": 36,
   "metadata": {},
   "outputs": [
    {
     "name": "stdout",
     "output_type": "stream",
     "text": [
      "\n",
      "Multiplication table for  2\n",
      "2 * 1 = 2\n",
      "2 * 3 = 6\n",
      "2 * 4 = 8\n",
      "2 * 5 = 10\n",
      "2 * 6 = 12\n",
      "2 * 7 = 14\n",
      "2 * 8 = 16\n",
      "2 * 9 = 18\n",
      "2 * 10 = 20\n",
      "\n",
      "Multiplication table for  3\n",
      "3 * 1 = 3\n",
      "3 * 2 = 6\n",
      "3 * 4 = 12\n",
      "3 * 5 = 15\n",
      "3 * 6 = 18\n",
      "3 * 7 = 21\n",
      "3 * 8 = 24\n",
      "3 * 9 = 27\n",
      "3 * 10 = 30\n"
     ]
    }
   ],
   "source": [
    "# Running outer loop from 2 to 3\n",
    " \n",
    "for i in range(2, 4):\n",
    "\n",
    "    #Printing inside outer loop\n",
    "    print(\"\\nMultiplication table for \", i)\n",
    "\n",
    "     # Running inner loop from 1 to 10\n",
    "    for j in range(1, 11):\n",
    "        if i == j:\n",
    "            continue\n",
    "        else:\n",
    "            print(i, \"*\", j, \"=\", i*j)"
   ]
  },
  {
   "attachments": {},
   "cell_type": "markdown",
   "metadata": {},
   "source": [
    "#### Single Line Nested Loops Using List Comprehension\n"
   ]
  },
  {
   "cell_type": "code",
   "execution_count": 18,
   "metadata": {},
   "outputs": [
    {
     "name": "stdout",
     "output_type": "stream",
     "text": [
      "[22, 32, 42, 23, 33, 43, 24, 34, 44]\n"
     ]
    }
   ],
   "source": [
    "first = [2, 3, 4]\n",
    "second = [20, 30, 40]\n",
    "final = []\n",
    "for i in first:\n",
    "    for j in second:\n",
    "        final.append(i+j)\n",
    "print(final)"
   ]
  },
  {
   "attachments": {},
   "cell_type": "markdown",
   "metadata": {},
   "source": [
    "You can write more fast and compact code using **list comprehension**"
   ]
  },
  {
   "cell_type": "code",
   "execution_count": 19,
   "metadata": {},
   "outputs": [
    {
     "name": "stdout",
     "output_type": "stream",
     "text": [
      "[22, 32, 42, 23, 33, 43, 24, 34, 44]\n"
     ]
    }
   ],
   "source": [
    "first = [2, 3, 4]\n",
    "second = [20, 30, 40]\n",
    "final = [i+j for i in first for j in second]\n",
    "print(final)"
   ]
  },
  {
   "attachments": {},
   "cell_type": "markdown",
   "metadata": {},
   "source": [
    "**Example 10** Re-write examples 2 and 3 using list comprehension. You don't have to print titles"
   ]
  },
  {
   "cell_type": "code",
   "execution_count": 40,
   "metadata": {},
   "outputs": [
    {
     "name": "stdout",
     "output_type": "stream",
     "text": [
      "[2, 4, 6, 8, 10, 12, 14, 16, 18, 20, 3, 6, 9, 12, 15, 18, 21, 24, 27, 30]\n"
     ]
    }
   ],
   "source": [
    "#Example 2\n",
    "\n",
    "multiplication = [i * j for i in range(2,4) for j in range(1, 11)]\n",
    "\n",
    "print(multiplication)"
   ]
  },
  {
   "cell_type": "code",
   "execution_count": 41,
   "metadata": {},
   "outputs": [
    {
     "name": "stdout",
     "output_type": "stream",
     "text": [
      "[2, 4, 6, 8, 4, 8, 12, 16, 6, 12, 18, 24, 8, 16, 24, 32, 10, 20, 30, 40]\n"
     ]
    }
   ],
   "source": [
    "#Example 3\n",
    "\n",
    "multiplication = [i * j for i in range(2, 11, 2) for j in range(1, 5)]\n",
    "print(multiplication)"
   ]
  },
  {
   "attachments": {},
   "cell_type": "markdown",
   "metadata": {},
   "source": [
    "#### Time complexity\n",
    "\n",
    "**Keep the time complexity in mind**. Let’s understand this with examples on how nested for loop work in Python:\n",
    "\n",
    "We use **simple for loop** to iterate on the given elements of an array or iterable. Here time complexity is **`O(n)`** because we are iterating all items from a list.\n",
    "\n",
    "*The number of execution steps (iterations) determines the time complexity of a loop.*\n",
    "\n",
    "When you use a **nested loop** and both outer and inner loop runs without any if condition in it, the time complexity is **`O(n^2`**) because, for all of the n elements, the code is executed n times."
   ]
  },
  {
   "cell_type": "code",
   "execution_count": 20,
   "metadata": {},
   "outputs": [
    {
     "name": "stdout",
     "output_type": "stream",
     "text": [
      "iteration 0: 1\n",
      "iteration 1: 2\n",
      "iteration 2: 3\n",
      "iteration 3: 4\n",
      "iteration 4: 5\n",
      "iteration 5: 6\n"
     ]
    }
   ],
   "source": [
    "numbers = [[1, 2, 3], [4, 5, 6]]\n",
    "\n",
    "cnt = 0\n",
    "for i in numbers:\n",
    "    for j in i:\n",
    "        print('iteration', cnt, end=': ')\n",
    "        print(j)\n",
    "        cnt = cnt + 1"
   ]
  },
  {
   "attachments": {},
   "cell_type": "markdown",
   "metadata": {},
   "source": [
    "If you want to read more about time complexity of nested loops: https://www.enjoyalgorithms.com/blog/time-complexity-analysis-of-loop-in-programming"
   ]
  },
  {
   "attachments": {},
   "cell_type": "markdown",
   "metadata": {},
   "source": [
    "#### Bibliography:\n",
    "\n",
    "- https://pynative.com/print-pattern-python-examples/\n",
    "- https://www.enjoyalgorithms.com/blog/time-complexity-analysis-of-loop-in-programming\n",
    "- https://www.softwaretestinghelp.com/python/looping-in-python-for-while-nested-loops\n",
    "- https://www.geeksforgeeks.org/python-nested-loops/\n"
   ]
  }
 ],
 "metadata": {
  "kernelspec": {
   "display_name": "venv",
   "language": "python",
   "name": "python3"
  },
  "language_info": {
   "codemirror_mode": {
    "name": "ipython",
    "version": 3
   },
   "file_extension": ".py",
   "mimetype": "text/x-python",
   "name": "python",
   "nbconvert_exporter": "python",
   "pygments_lexer": "ipython3",
   "version": "3.8.9"
  },
  "orig_nbformat": 4,
  "vscode": {
   "interpreter": {
    "hash": "8de49573b43af245f72786bba46bd0385575cfe5b71841321ea16e89eb5e3ea5"
   }
  }
 },
 "nbformat": 4,
 "nbformat_minor": 2
}
