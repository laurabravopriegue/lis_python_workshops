{
 "cells": [
  {
   "attachments": {},
   "cell_type": "markdown",
   "metadata": {},
   "source": [
    "# Python Arrays \n",
    "\n",
    "**Arrays** are a type of variable that allows you to hold more than one value at a time. \n",
    "\n",
    "If you have a list of items like the one below, you can store them in an array. \n",
    "\n",
    "An array can hold many values under a single name. "
   ]
  },
  {
   "cell_type": "code",
   "execution_count": 6,
   "metadata": {},
   "outputs": [
    {
     "name": "stdout",
     "output_type": "stream",
     "text": [
      "The list of animals:  ['dog', 'cat', 'bird']\n"
     ]
    }
   ],
   "source": [
    "item1 = \"dog\"\n",
    "item2 = \"cat\"\n",
    "item3 = \"bird\"\n",
    "\n",
    "animals = [item1, item2, item3]\n",
    "\n",
    "print(\"The list of animals: \", animals)"
   ]
  },
  {
   "attachments": {},
   "cell_type": "markdown",
   "metadata": {},
   "source": [
    "The values can be of any type: strings, integers, floats, dictionaries, tuples... "
   ]
  },
  {
   "cell_type": "code",
   "execution_count": 7,
   "metadata": {},
   "outputs": [
    {
     "name": "stdout",
     "output_type": "stream",
     "text": [
      "This is a list of floats:  [0.1, 0.34, 0.7]\n"
     ]
    }
   ],
   "source": [
    "item1 = 0.1\n",
    "item2 = 0.34\n",
    "item3 = 0.7\n",
    "\n",
    "decimal_numbers = [item1, item2, item3]\n",
    "\n",
    "print(\"This is a list of floats: \", decimal_numbers)"
   ]
  },
  {
   "cell_type": "code",
   "execution_count": 8,
   "metadata": {},
   "outputs": [
    {
     "name": "stdout",
     "output_type": "stream",
     "text": [
      "This is a list of dictionaries:  [{'name': 'Peter', 'age': 25}, {'name': 'Maria', 'age': 23}, {'name': 'Anna', 'age': 19}]\n"
     ]
    }
   ],
   "source": [
    "item1 = {\"name\": \"Peter\", \"age\": 25}\n",
    "item2 = {\"name\": \"Maria\", \"age\": 23}\n",
    "item3 = {\"name\": \"Anna\", \"age\": 19}\n",
    "\n",
    "students = [item1, item2, item3]\n",
    "\n",
    "print(\"This is a list of dictionaries: \", students)"
   ]
  },
  {
   "attachments": {},
   "cell_type": "markdown",
   "metadata": {},
   "source": [
    "### Array methods\n",
    "\n",
    "Python has some in-built methods that you can use with arrays \n",
    "\n",
    "#### Accessing members of array\n",
    "\n",
    "You can do that by putting the index number in brackets.  \n"
   ]
  },
  {
   "cell_type": "markdown",
   "metadata": {},
   "source": [
    "\n",
    "Remember the indexing always starts with number 0."
   ]
  },
  {
   "cell_type": "code",
   "execution_count": 9,
   "metadata": {},
   "outputs": [
    {
     "name": "stdout",
     "output_type": "stream",
     "text": [
      "The first animal on the list:  dog\n",
      "The second decimal number on the list:  0.34\n",
      "The name of the third student on the list:  Anna\n"
     ]
    }
   ],
   "source": [
    "print(\"The first animal on the list: \", animals[0])\n",
    "print(\"The second decimal number on the list: \", decimal_numbers[1])\n",
    "print(\"The name of the third student on the list: \", students[2]['name'])"
   ]
  },
  {
   "attachments": {},
   "cell_type": "markdown",
   "metadata": {},
   "source": [
    "#### Getting the length of an array\n",
    "\n",
    "Using the `len()` method you can get the length of an array."
   ]
  },
  {
   "cell_type": "code",
   "execution_count": 10,
   "metadata": {},
   "outputs": [
    {
     "name": "stdout",
     "output_type": "stream",
     "text": [
      "Theres 3 students in the class\n"
     ]
    }
   ],
   "source": [
    "number_of_students = len(students)\n",
    "\n",
    "print(\"Theres\", number_of_students, \"students in the class\")"
   ]
  },
  {
   "attachments": {},
   "cell_type": "markdown",
   "metadata": {},
   "source": [
    "#### Appending elements to an array\n",
    "\n",
    "Using the `append()` method you can add elements to the array."
   ]
  },
  {
   "cell_type": "code",
   "execution_count": 11,
   "metadata": {},
   "outputs": [
    {
     "name": "stdout",
     "output_type": "stream",
     "text": [
      "This is the new animal list ['dog', 'cat', 'bird', 'butterfly']\n",
      "There is now 4 animals\n"
     ]
    }
   ],
   "source": [
    "# Here theres a new method: copy() creates a copy of the list\n",
    "# What would happen if we removed it?\n",
    " \n",
    "updated_animals = animals.copy()\n",
    "updated_animals.append('butterfly')\n",
    "\n",
    "print('This is the new animal list', updated_animals)\n",
    "print('There is now', len(updated_animals), 'animals')\n"
   ]
  },
  {
   "cell_type": "code",
   "execution_count": 12,
   "metadata": {},
   "outputs": [
    {
     "data": {
      "text/plain": [
       "\"\\n****  Some questions ****\\n\\nCan we .append() elements of different types to an array?\\nCan we .append() an array to an array?\\nCan we .append() at a specific index?\\nCan we add duplicate elements?\\nWhy don't you try?\\n\\n\""
      ]
     },
     "execution_count": 12,
     "metadata": {},
     "output_type": "execute_result"
    }
   ],
   "source": [
    "\"\"\"\n",
    "****  Some questions ****\n",
    "\n",
    "Can we .append() elements of different types to an array?\n",
    "Can we .append() an array to an array?\n",
    "Can we .append() at a specific index?\n",
    "Can we add duplicate elements?\n",
    "Why don't you try?\n",
    "\n",
    "\"\"\"\n"
   ]
  },
  {
   "attachments": {},
   "cell_type": "markdown",
   "metadata": {},
   "source": [
    "#### Removing elements to an array\n",
    "\n",
    "Using the `pop()` method you can remove elements from the array at a specific index"
   ]
  },
  {
   "cell_type": "code",
   "execution_count": 13,
   "metadata": {},
   "outputs": [
    {
     "name": "stdout",
     "output_type": "stream",
     "text": [
      "This is the new animal list ['dog', 'bird']\n"
     ]
    }
   ],
   "source": [
    "updated_animals = animals.copy()\n",
    "updated_animals.pop(1)\n",
    "\n",
    "print('This is the new animal list', updated_animals)"
   ]
  },
  {
   "attachments": {},
   "cell_type": "markdown",
   "metadata": {},
   "source": [
    "Using the `remove()` method you can remove specific values from the array"
   ]
  },
  {
   "cell_type": "code",
   "execution_count": 14,
   "metadata": {},
   "outputs": [
    {
     "name": "stdout",
     "output_type": "stream",
     "text": [
      "This is the new animal list ['cat', 'bird']\n"
     ]
    }
   ],
   "source": [
    "updated_animals = animals.copy()\n",
    "updated_animals.remove(\"dog\")\n",
    "\n",
    "print('This is the new animal list', updated_animals)"
   ]
  },
  {
   "cell_type": "markdown",
   "metadata": {},
   "source": [
    "#### Other methods\n",
    "\n",
    "Using the `count()` method you can count the elements of a list with a specific value"
   ]
  },
  {
   "cell_type": "code",
   "execution_count": 15,
   "metadata": {},
   "outputs": [
    {
     "name": "stdout",
     "output_type": "stream",
     "text": [
      "There is 1 dog in the list\n"
     ]
    }
   ],
   "source": [
    "print(\"There is\", animals.count(\"dog\"), \"dog in the list\")"
   ]
  },
  {
   "attachments": {},
   "cell_type": "markdown",
   "metadata": {},
   "source": [
    "Using the `extend()` method you can concatenate two arrays"
   ]
  },
  {
   "cell_type": "code",
   "execution_count": 16,
   "metadata": {},
   "outputs": [
    {
     "name": "stdout",
     "output_type": "stream",
     "text": [
      "This is a longer animal list  ['dog', 'cat', 'bird', 'cat', 'bird']\n"
     ]
    }
   ],
   "source": [
    "longer_animals = animals.copy()\n",
    "longer_animals.extend(updated_animals)\n",
    "\n",
    "\n",
    "\n",
    "print(\"This is a longer animal list \", longer_animals)"
   ]
  },
  {
   "attachments": {},
   "cell_type": "markdown",
   "metadata": {},
   "source": [
    "### Looping through elements of an Array\n",
    "\n",
    "We can loop through elements of an array using a `for loop`"
   ]
  },
  {
   "cell_type": "code",
   "execution_count": 17,
   "metadata": {},
   "outputs": [
    {
     "name": "stdout",
     "output_type": "stream",
     "text": [
      "dog\n",
      "cat\n",
      "bird\n"
     ]
    }
   ],
   "source": [
    "#We loop through elements of the array\n",
    "for animal in animals: \n",
    "    #We print the element\n",
    "    print(animal)"
   ]
  },
  {
   "attachments": {},
   "cell_type": "markdown",
   "metadata": {},
   "source": [
    "There are other ways of iterating. For example: \n",
    "- Enumerate\n",
    "- While loop"
   ]
  },
  {
   "cell_type": "code",
   "execution_count": 18,
   "metadata": {},
   "outputs": [
    {
     "name": "stdout",
     "output_type": "stream",
     "text": [
      "this is animal number 1 : dog\n",
      "this is animal number 2 : cat\n",
      "this is animal number 3 : bird\n"
     ]
    }
   ],
   "source": [
    "#We loop through elements of the array\n",
    "for i, animal in enumerate(animals): \n",
    "    #We print the index and the element\n",
    "    print(\"this is animal number\", i+1, \":\", animal)"
   ]
  },
  {
   "cell_type": "code",
   "execution_count": 19,
   "metadata": {},
   "outputs": [
    {
     "name": "stdout",
     "output_type": "stream",
     "text": [
      "this is animal number 1 : dog\n",
      "this is animal number 2 : cat\n",
      "this is animal number 3 : bird\n"
     ]
    }
   ],
   "source": [
    "i = 0\n",
    "list_size = len(animals)\n",
    "#While i is smaller than the size of list, we loop\n",
    "while i < list_size:\n",
    "    # We print the index and the animal, using the index\n",
    "    print(\"this is animal number\", i+1, \":\", animals[i])\n",
    "    i += 1"
   ]
  },
  {
   "attachments": {},
   "cell_type": "markdown",
   "metadata": {},
   "source": [
    "#### Looping and using methods\n",
    "\n",
    "We will combine now `for loops` with some of the array methods we have discussed above.\n",
    "\n",
    "\n",
    "**Example 1**\n",
    "\n",
    "We are going to iterate through the list of students and create a second list only of their names"
   ]
  },
  {
   "cell_type": "code",
   "execution_count": 20,
   "metadata": {},
   "outputs": [
    {
     "name": "stdout",
     "output_type": "stream",
     "text": [
      "List of student names  ['Peter', 'Maria', 'Anna']\n"
     ]
    }
   ],
   "source": [
    "#First we create an empty list\n",
    "names_students = []\n",
    "\n",
    "#We loop through the list\n",
    "for student in students: \n",
    "    #We save the variable name\n",
    "    name = student['name']\n",
    "    #We append it to the list we have previously created\n",
    "    names_students.append(name)\n",
    "\n",
    "print(\"List of student names \", names_students)"
   ]
  },
  {
   "attachments": {},
   "cell_type": "markdown",
   "metadata": {},
   "source": [
    "**Example 2**\n",
    "\n",
    "We are going to iterate through this list of numbers and create a list only with the odd ones"
   ]
  },
  {
   "cell_type": "code",
   "execution_count": 21,
   "metadata": {},
   "outputs": [
    {
     "name": "stdout",
     "output_type": "stream",
     "text": [
      "These are the odd numbers [1, 5, 7, 9, 23, 67, 89, 65, 45]\n"
     ]
    }
   ],
   "source": [
    "#This is the list of integers\n",
    "numbers = [1, 2, 5, 7, 9, 23, 54, 67, 34, 89, 22, 32, 65, 45]\n",
    "\n",
    "#We create an empty list for the odd numbers\n",
    "odd_numbers = []\n",
    "\n",
    "#This function will return True if the number is odd and False if its even\n",
    "def is_odd(num):\n",
    "    if num % 2 == 1:\n",
    "        return True\n",
    "    else:\n",
    "        return False\n",
    "\n",
    "#We iterathe through the numbers\n",
    "for num in numbers: \n",
    "    # If the number is odd \n",
    "    if is_odd(num):\n",
    "        # We append the number to the list we created previously\n",
    "        odd_numbers.append(num)\n",
    "\n",
    "print(\"These are the odd numbers\", odd_numbers)"
   ]
  },
  {
   "attachments": {},
   "cell_type": "markdown",
   "metadata": {},
   "source": [
    "**Example 3**\n",
    "\n",
    "We are going to iterate through this list of lists. We create a new value with the first element of each of the lists."
   ]
  },
  {
   "cell_type": "code",
   "execution_count": 22,
   "metadata": {},
   "outputs": [
    {
     "name": "stdout",
     "output_type": "stream",
     "text": [
      "The list of first values  [1, 3, 1, 9, 1, 4, 0]\n"
     ]
    }
   ],
   "source": [
    "list_of_lists = [[1,2,3], [3,7,8], [1,2,5], [9,5,7], [1], [4,5], [0,7]]\n",
    "list_of_first_values = []\n",
    "\n",
    "def get_first_value(l):\n",
    "    first_value = l[0]\n",
    "    return first_value\n",
    "\n",
    "for l in list_of_lists:\n",
    "    first = get_first_value(l)\n",
    "    list_of_first_values.append(first)\n",
    "\n",
    "print(\"The list of first values \", list_of_first_values)"
   ]
  },
  {
   "attachments": {},
   "cell_type": "markdown",
   "metadata": {},
   "source": [
    "**Example 3.1**\n",
    "\n",
    "Now the same but for the last value!"
   ]
  },
  {
   "cell_type": "code",
   "execution_count": 23,
   "metadata": {},
   "outputs": [
    {
     "name": "stdout",
     "output_type": "stream",
     "text": [
      "The list of last values  [3, 8, 5, 7, 1, 5, 7]\n"
     ]
    }
   ],
   "source": [
    "list_of_last_values = []\n",
    "\n",
    "def get_last_value(l):\n",
    "    last_value = l[-1]\n",
    "    return last_value\n",
    "\n",
    "for l in list_of_lists:\n",
    "    last = get_last_value(l)\n",
    "    list_of_last_values.append(last)\n",
    "\n",
    "print(\"The list of last values \", list_of_last_values)"
   ]
  },
  {
   "attachments": {},
   "cell_type": "markdown",
   "metadata": {},
   "source": [
    "**Example 4**\n",
    "\n",
    "We are going to iterate through this list of lists. We filter the empty lists."
   ]
  },
  {
   "cell_type": "code",
   "execution_count": 24,
   "metadata": {},
   "outputs": [],
   "source": [
    "list_of_lists = [[1,2,3], [], [], [9,5,7], [1], [4,5], []]\n",
    "not_empty_lists = []\n",
    "\n",
    "def is_empty(l):\n",
    "    if len(l) > 0:\n",
    "        return False\n",
    "    else:\n",
    "        return True\n",
    "\n",
    "for l in list_of_lists:\n",
    "    if is_empty(l) == False:\n",
    "        not_empty_lists.append(l)"
   ]
  },
  {
   "attachments": {},
   "cell_type": "markdown",
   "metadata": {},
   "source": [
    "**Example 5** \n",
    "\n",
    "Print sum of all even numbers from 10 to 20"
   ]
  },
  {
   "cell_type": "code",
   "execution_count": 25,
   "metadata": {},
   "outputs": [
    {
     "name": "stdout",
     "output_type": "stream",
     "text": [
      "This is the sum of even numbers  70\n"
     ]
    }
   ],
   "source": [
    "even_numbers = []\n",
    "\n",
    "#This function will return True if the number is odd and False if its even\n",
    "def is_odd(num):\n",
    "    if num % 2 == 1:\n",
    "        return True\n",
    "    else:\n",
    "        return False\n",
    "\n",
    "\n",
    "for number in range(10, 20):\n",
    "    if is_odd(number) == False:\n",
    "        even_numbers.append(number)\n",
    "\n",
    "sumEvenNumbers = sum(even_numbers)\n",
    "\n",
    "print(\"This is the sum of even numbers \", sumEvenNumbers)"
   ]
  },
  {
   "attachments": {},
   "cell_type": "markdown",
   "metadata": {},
   "source": [
    "**Example 6** \n",
    "\n",
    "Whats the min, max and average age of the students in the class?"
   ]
  },
  {
   "cell_type": "code",
   "execution_count": 26,
   "metadata": {},
   "outputs": [
    {
     "name": "stdout",
     "output_type": "stream",
     "text": [
      "The min age is  19\n",
      "The max age is  25\n",
      "The avg age is  22.333333333333332\n"
     ]
    }
   ],
   "source": [
    "ages = []\n",
    "\n",
    "for student in students:\n",
    "    ages.append(student['age'])\n",
    "\n",
    "\n",
    "minAge = min(ages)\n",
    "maxAge = max(ages)\n",
    "avgAge = sum(ages)/len(ages)\n",
    "\n",
    "print(\"The min age is \", minAge)\n",
    "print(\"The max age is \", maxAge)\n",
    "print(\"The avg age is \", avgAge)\n"
   ]
  },
  {
   "attachments": {},
   "cell_type": "markdown",
   "metadata": {},
   "source": [
    "**Bibliography** \n",
    "- https://www.w3schools.com/python/python_arrays.asp"
   ]
  }
 ],
 "metadata": {
  "kernelspec": {
   "display_name": "venv",
   "language": "python",
   "name": "python3"
  },
  "language_info": {
   "codemirror_mode": {
    "name": "ipython",
    "version": 3
   },
   "file_extension": ".py",
   "mimetype": "text/x-python",
   "name": "python",
   "nbconvert_exporter": "python",
   "pygments_lexer": "ipython3",
   "version": "3.8.9"
  },
  "orig_nbformat": 4,
  "vscode": {
   "interpreter": {
    "hash": "8de49573b43af245f72786bba46bd0385575cfe5b71841321ea16e89eb5e3ea5"
   }
  }
 },
 "nbformat": 4,
 "nbformat_minor": 2
}
