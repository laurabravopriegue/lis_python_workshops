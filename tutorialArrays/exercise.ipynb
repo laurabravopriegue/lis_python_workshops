{
 "cells": [
  {
   "attachments": {},
   "cell_type": "markdown",
   "metadata": {},
   "source": [
    "# Arrays exercise Musk Tweets\n",
    "\n",
    "\n",
    "We are going to be working with a dataset containing some of Elon Musk Tweets. \n",
    "\n",
    "\n",
    "\n",
    "\n",
    "Link to the dataset: https://www.kaggle.com/datasets/gpreda/elon-musk-tweets\n",
    "\n",
    "The following information is included:\n",
    "\n",
    "- ID\n",
    "- User name\n",
    "- User location\n",
    "- User description\n",
    "- User created\n",
    "- User followers\n",
    "- User friends\n",
    "- User favorites\n",
    "- User verified\n",
    "- Date\n",
    "- Text\n",
    "- Hashtags\n",
    "- Source\n",
    "- Retweets\n",
    "- Is retweet"
   ]
  },
  {
   "attachments": {},
   "cell_type": "markdown",
   "metadata": {},
   "source": [
    "Let's start by opening the file and examining the data"
   ]
  },
  {
   "cell_type": "code",
   "execution_count": 13,
   "metadata": {},
   "outputs": [
    {
     "name": "stdout",
     "output_type": "stream",
     "text": [
      "The first tweet in the dataset:\n",
      "{'id': 1544379368478212100, 'user_name': 'Elon Musk', 'user_location': None, 'user_description': 'Mars & Cars, Chips & Dips', 'user_created': '2009-06-02 20:12:29+00:00', 'user_followers': 101240855, 'user_friends': 115, 'user_favourites': 13503, 'user_verified': True, 'date': '2022-07-05 17:55:09+00:00', 'text': '@BillyM2k I find the gold toe sock – inevitably off kilter &amp; washed out – a little troubling esthetically &amp; arguably a bit corpo', 'hashtags': None, 'source': 'Twitter for iPhone', 'retweets': 335, 'favorites': 6542, 'is_retweet': False}\n"
     ]
    }
   ],
   "source": [
    "import json\n",
    "\n",
    " # Opening JSON file\n",
    "f = open('extras/elon_musk_tweets.json')\n",
    "\n",
    "# We store all the tweets in a variable called Tweets\n",
    "tweets = json.load(f)\n",
    "\n",
    "\n",
    "#Let's have a look at the first Tweet\n",
    "print(\"The first tweet in the dataset:\")\n",
    "print(tweets[0])"
   ]
  },
  {
   "cell_type": "code",
   "execution_count": 14,
   "metadata": {},
   "outputs": [
    {
     "name": "stdout",
     "output_type": "stream",
     "text": [
      "The last tweet in the dataset:\n",
      "{'id': 1640524480878354434, 'user_name': 'Elon Musk', 'user_location': None, 'user_description': None, 'user_created': '2009-06-02 20:12:29+00:00', 'user_followers': 133929132, 'user_friends': 190, 'user_favourites': 20517, 'user_verified': True, 'date': '2023-03-28 01:21:30+00:00', 'text': '@Culture_Crit Walter Chrysler had great style', 'hashtags': None, 'source': 'Twitter for iPhone', 'retweets': 337, 'favorites': 6108, 'is_retweet': False}\n"
     ]
    }
   ],
   "source": [
    "#And the last one\n",
    "print(\"The last tweet in the dataset:\")\n",
    "print(tweets[len(tweets)-1])"
   ]
  },
  {
   "attachments": {},
   "cell_type": "markdown",
   "metadata": {},
   "source": [
    "What we essentially have here is an array of dictionaries, and each dictionary key holds information about a single tweet! \n",
    "\n",
    "**Exercise 1**\n",
    "\n",
    "How many tweets does the dataset contain?"
   ]
  },
  {
   "cell_type": "code",
   "execution_count": 15,
   "metadata": {},
   "outputs": [
    {
     "name": "stdout",
     "output_type": "stream",
     "text": [
      "The dataset has 4160 Tweets\n"
     ]
    }
   ],
   "source": [
    "lengthOfTweets = #Write your code here\n",
    "\n",
    "print(\"The dataset has\", lengthOfTweets, \"Tweets\")"
   ]
  },
  {
   "attachments": {},
   "cell_type": "markdown",
   "metadata": {},
   "source": [
    "**Exercise 2**\n",
    "\n",
    "How  many of those tweets  are retweets?"
   ]
  },
  {
   "cell_type": "code",
   "execution_count": 19,
   "metadata": {},
   "outputs": [
    {
     "name": "stdout",
     "output_type": "stream",
     "text": [
      "There are  0 retweets\n"
     ]
    }
   ],
   "source": [
    "countRetweets = 0\n",
    "\n",
    "for tweet in tweets: \n",
    "    if tweet['is_retweet'] == True:\n",
    "        countRetweets += 1\n",
    "\n",
    "print(\"There are\", countRetweets, \"retweets\")"
   ]
  },
  {
   "attachments": {},
   "cell_type": "markdown",
   "metadata": {},
   "source": [
    "**Exercise 3**\n",
    "\n",
    "How many contain hastags?"
   ]
  },
  {
   "cell_type": "code",
   "execution_count": 53,
   "metadata": {},
   "outputs": [
    {
     "name": "stdout",
     "output_type": "stream",
     "text": [
      "There are 1 Tweets with hastags\n",
      "The hastags are:  [\"['FreeSpeech']\"]\n"
     ]
    }
   ],
   "source": [
    "countTweetsWithHastags = 0\n",
    "hastagsInTweets = []\n",
    "\n",
    "for tweet in tweets: \n",
    "    if tweet['hashtags'] != None:\n",
    "        countTweetsWithHastags += 1\n",
    "        hastagsInTweets.append(tweet['hashtags'])\n",
    "\n",
    "print(\"There are\", countTweetsWithHastags, \"Tweets with hastags\")\n",
    "print(\"The hastags are: \", hastagsInTweets)"
   ]
  },
  {
   "attachments": {},
   "cell_type": "markdown",
   "metadata": {},
   "source": [
    "**Exercise 4**\n",
    "\n",
    "\n",
    "The Tweets were written throughout a period of 11 months. What was Musk's average follower count in that time? \n",
    "\n",
    "Lets create an array with his follower counts and then find the average:\n",
    "\n",
    "Remember you can use the method `sum()` for adding and `len()` for getting teh length of an array!"
   ]
  },
  {
   "cell_type": "code",
   "execution_count": null,
   "metadata": {},
   "outputs": [],
   "source": [
    "followerCounts = []\n",
    "\n",
    "for tweet in tweets:\n",
    "    #write your code here\n",
    "\n",
    "averageFollowerCount = #write your code here\n",
    "\n",
    "\n",
    "print(\"The average follower count of Musk during those 11 months was \", averageFollowerCount)"
   ]
  },
  {
   "attachments": {},
   "cell_type": "markdown",
   "metadata": {},
   "source": [
    "**Exercise 5**\n",
    "\n",
    "\n",
    "Amazing! And, during this 11 month period... how many unique descriptions has Musk's had?\n",
    "\n",
    "Remember you can use `set()` for getting unique elements of a list!"
   ]
  },
  {
   "cell_type": "code",
   "execution_count": 23,
   "metadata": {},
   "outputs": [
    {
     "ename": "IndentationError",
     "evalue": "expected an indented block (3497832593.py, line 6)",
     "output_type": "error",
     "traceback": [
      "\u001b[0;36m  Cell \u001b[0;32mIn[23], line 6\u001b[0;36m\u001b[0m\n\u001b[0;31m    uniqueDescriptions = #write your code here\u001b[0m\n\u001b[0m    ^\u001b[0m\n\u001b[0;31mIndentationError\u001b[0m\u001b[0;31m:\u001b[0m expected an indented block\n"
     ]
    }
   ],
   "source": [
    "descriptions = []\n",
    "\n",
    "for tweet in tweets:\n",
    "    #write your code here\n",
    "\n",
    "uniqueDescriptions = #write your code here\n",
    "numberOfUniqueDescriptions = #write your code here\n",
    "\n",
    "\n",
    "print(\"Over that period of time, Musk has had\", numberOfUniqueDescriptions, \"unique descriptions. They are:\", uniqueDescriptions)"
   ]
  },
  {
   "attachments": {},
   "cell_type": "markdown",
   "metadata": {},
   "source": [
    "**Exercise 6**\n",
    "\n",
    "\n",
    "An interesting thing about python is that: you can treat a string as an array of letters and symbols! \n",
    "\n",
    "For example we can treat the following string:"
   ]
  },
  {
   "cell_type": "code",
   "execution_count": 48,
   "metadata": {},
   "outputs": [],
   "source": [
    "example = \"London Interdisciplinary School\""
   ]
  },
  {
   "attachments": {},
   "cell_type": "markdown",
   "metadata": {},
   "source": [
    "As an sequence of letters and blank spaces. And use **some** of the methods we have learnt:\n",
    "\n",
    "**Note** *It is still a string, so there are methods, such as `append()`, `remove()`, `pop()` that we wont be able to use*"
   ]
  },
  {
   "cell_type": "code",
   "execution_count": 35,
   "metadata": {},
   "outputs": [
    {
     "name": "stdout",
     "output_type": "stream",
     "text": [
      "This is the length of the string:  31\n",
      "This is the first element of the string:  L\n",
      "This are the first five elements of the string:  Lon\n",
      "This are the first seven elements of the string:  London \n"
     ]
    }
   ],
   "source": [
    "lengthString = len(example)\n",
    "\n",
    "print(\"This is the length of the string: \", lengthString)\n",
    "\n",
    "firstElementOfString = example[0]\n",
    "\n",
    "print(\"This is the first element of the string: \", firstElementOfString)\n",
    "\n",
    "firstFiveElementsOfString = example[0:3]\n",
    "\n",
    "print(\"This are the first five elements of the string: \", firstFiveElementsOfString)\n",
    "\n",
    "firstSevenElementsOfString = example[0:7]\n",
    "\n",
    "print(\"This are the first seven elements of the string: \", firstSevenElementsOfString)"
   ]
  },
  {
   "attachments": {},
   "cell_type": "markdown",
   "metadata": {},
   "source": [
    "As you can see, the blank spaces count as elements too!"
   ]
  },
  {
   "cell_type": "code",
   "execution_count": 36,
   "metadata": {},
   "outputs": [
    {
     "name": "stdout",
     "output_type": "stream",
     "text": [
      "This is element 0 : L\n",
      "This is element 1 : o\n",
      "This is element 2 : n\n",
      "This is element 3 : d\n",
      "This is element 4 : o\n",
      "This is element 5 : n\n",
      "This is element 6 :  \n",
      "This is element 7 : I\n",
      "This is element 8 : n\n",
      "This is element 9 : t\n",
      "This is element 10 : e\n",
      "This is element 11 : r\n",
      "This is element 12 : d\n",
      "This is element 13 : i\n",
      "This is element 14 : s\n",
      "This is element 15 : c\n",
      "This is element 16 : i\n",
      "This is element 17 : p\n",
      "This is element 18 : l\n",
      "This is element 19 : i\n",
      "This is element 20 : n\n",
      "This is element 21 : a\n",
      "This is element 22 : r\n",
      "This is element 23 : y\n",
      "This is element 24 :  \n",
      "This is element 25 : S\n",
      "This is element 26 : c\n",
      "This is element 27 : h\n",
      "This is element 28 : o\n",
      "This is element 29 : o\n",
      "This is element 30 : l\n"
     ]
    }
   ],
   "source": [
    "for i,element in enumerate(example):\n",
    "    print(\"This is element\", i, \":\", element)"
   ]
  },
  {
   "attachments": {},
   "cell_type": "markdown",
   "metadata": {},
   "source": [
    "Lets say we want to extract the month out of Musks tweets. The date is given to us like:"
   ]
  },
  {
   "cell_type": "code",
   "execution_count": 32,
   "metadata": {},
   "outputs": [],
   "source": [
    "date = '2022-07-05 17:55:09+00:00'"
   ]
  },
  {
   "attachments": {},
   "cell_type": "markdown",
   "metadata": {},
   "source": [
    "We would just need the elements 6th and 7th of the string, that means elements with index 5 and 6"
   ]
  },
  {
   "cell_type": "code",
   "execution_count": 34,
   "metadata": {},
   "outputs": [
    {
     "name": "stdout",
     "output_type": "stream",
     "text": [
      "The month is 07\n"
     ]
    }
   ],
   "source": [
    "month = date[5:7]\n",
    "\n",
    "print(\"The month is\", month)"
   ]
  },
  {
   "attachments": {},
   "cell_type": "markdown",
   "metadata": {},
   "source": [
    "We can now calculate in which month Musk tweeted the most! \n",
    "\n",
    "To make our lives a bit easier, we will use the in-built module `Counter`"
   ]
  },
  {
   "cell_type": "code",
   "execution_count": 45,
   "metadata": {},
   "outputs": [],
   "source": [
    "from collections import Counter\n",
    "\n",
    "monthsOfTweets = []\n",
    "\n",
    "def getMonth(date):\n",
    "    #write your code here\n",
    "    return month\n",
    "\n",
    "for tweet in tweets:\n",
    "    #write your code here\n",
    "    pass\n",
    "\n",
    "counterOfTweetsForEachMonth = Counter(monthsOfTweets)\n",
    "\n",
    "for month in counterOfTweetsForEachMonth:\n",
    "    print(\"In month\", month, \"Musk posted\", counterOfTweetsForEachMonth[month], \"tweets\")\n"
   ]
  },
  {
   "attachments": {},
   "cell_type": "markdown",
   "metadata": {},
   "source": [
    "**Exercise 7**\n",
    "\n",
    "\n",
    "Another fun method that Python offers is `split()` that allows us to transform a string into an array of words (also called tokens in NLP)"
   ]
  },
  {
   "cell_type": "code",
   "execution_count": 49,
   "metadata": {},
   "outputs": [
    {
     "name": "stdout",
     "output_type": "stream",
     "text": [
      "These are the words in a list ['London', 'Interdisciplinary', 'School']\n"
     ]
    }
   ],
   "source": [
    "words = example.split()\n",
    "\n",
    "print(\"These are the words in a list\", words)"
   ]
  },
  {
   "attachments": {},
   "cell_type": "markdown",
   "metadata": {},
   "source": [
    "This fully transforms the string into an array, which means we can apply all the array methods to it!\n",
    "\n",
    "Can you use this method to calculate the average number of words that Musk uses per Tweet?"
   ]
  }
 ],
 "metadata": {
  "kernelspec": {
   "display_name": "venv",
   "language": "python",
   "name": "python3"
  },
  "language_info": {
   "codemirror_mode": {
    "name": "ipython",
    "version": 3
   },
   "file_extension": ".py",
   "mimetype": "text/x-python",
   "name": "python",
   "nbconvert_exporter": "python",
   "pygments_lexer": "ipython3",
   "version": "3.8.9"
  },
  "orig_nbformat": 4,
  "vscode": {
   "interpreter": {
    "hash": "8de49573b43af245f72786bba46bd0385575cfe5b71841321ea16e89eb5e3ea5"
   }
  }
 },
 "nbformat": 4,
 "nbformat_minor": 2
}
